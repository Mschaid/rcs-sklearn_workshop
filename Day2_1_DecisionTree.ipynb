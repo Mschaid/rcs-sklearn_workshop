{
 "cells": [
  {
   "cell_type": "markdown",
   "id": "48166c47-d191-43a8-8609-6b08f018bca4",
   "metadata": {},
   "source": [
    "# <br><br><span style=\"color:rebeccapurple\">Overview</span>\n",
    "\n",
    "Decision tree is an important type of model in machine learning. The model is relatively easy to understand, interpret and visualize.\n",
    "    \n",
    "Decision tree typically consists of decision nodes and leaf nodes. Each decision node takes a single feature, determine a decision rule based on this feature and separate the samples accordingly. Each leaf (or terminal) node represents an outcome or prediction. \n",
    "\n",
    "<div>\n",
    "<center><img src=\"dt.png\" width=\"500\"/>\n",
    "</div>\n",
    "<center> Source: <a href=\"https://medium.com/deep-math-machine-learning-ai/chapter-4-decision-trees-algorithms-b93975f7a1f1\">Sanjeevi, M (2017)</a>\n",
    "    \n",
    "The figure above is an example of a decision tree that is used to determine whether a person would go and play outside, based on 3 features - outlook, humidity and wind."
   ]
  },
  {
   "cell_type": "markdown",
   "id": "d792bf16-3996-4624-9aa7-b0f92b5ab8f9",
   "metadata": {},
   "source": [
    "# <br><br><span style=\"color:rebeccapurple\">Tree building algorithm</span>\n",
    "\n",
    "Building a decision tree is essentially a process of dividing up the dataset and involves\n",
    "- picking which feature to split the samples on\n",
    "- determining the specific split point of the chosen feature\n",
    "\n",
    "The numerical procedure can be summarized as tesing all possible split points corresponding to each feature using some cost functions. Whichever set of {feature, split point} produces the lowest cost is selected and the samples are split accordingly. \n",
    "\n",
    "There are several algorithms to build decision trees such as Iterative Dichotomiser 3 (ID3) and Classification and Regression Trees (CART). We will focus on CART for this workshop. \n",
    "\n",
    "The key features of CART are\n",
    "- building binary trees, i.e., splitting samples in a decision node into 2 branches\n",
    "- supporting numerical target variable (regression)\n",
    "- sum of squared error as the cost function for regression\n",
    "- Gini Index as the cost function for classification\n",
    "\n",
    "##### Note: scikit-learn implementation does not support categorical predictors."
   ]
  },
  {
   "cell_type": "markdown",
   "id": "51cafd3f-9640-444a-9bae-97d6728c0cd2",
   "metadata": {},
   "source": [
    "# <br><br><span style=\"color:rebeccapurple\">Classification - Gini Index</span>\n",
    "\n",
    "Gini Index (or Impurity) calculates the probaility of misclassifying samples based on a specific feature. The Gini Index function is calculated as\n",
    "$$\n",
    "\\begin{align}\n",
    "G = \\sum_{i=1}^N p_i(1-p_i)\n",
    "\\end{align}\n",
    "$$\n",
    "where $p_i$ denotes the probability of a sample being classified for class $i$ and is calculated as \n",
    "$$\n",
    "\\begin{align}\n",
    "p_i = \\frac{\\text{# samples in class $i$}}{\\text{Total # samples}}\n",
    "\\end{align}\n",
    "$$\n",
    "\n",
    "Example: Suppose we have $N$ samples that belong to either class A or class B. We want to determine the first decision node and we want to test feature Income with split point $50,000. \n",
    "<div>\n",
    "<center><img src=\"dt_example.png\" width=\"600\"/>\n",
    "</div>\n",
    "<center> Source: Author\n",
    "    \n",
    "    \n",
    "<br> $p_a$ and $p_b$ are the probability of a sample being in class a and b respectively and they are calculated for each subset obtained after the split. We can compute the Gini Index for each subset, $G_1$ and $G_2$.\n",
    "\n",
    "The Gini Index of a node is computed as the weighted score of these two subsets\n",
    "$$\n",
    "\\begin{align}\n",
    "G_{node} = G_1 \\frac{N_1}{N} +  G_2 \\frac{N_2}{N}\n",
    "\\end{align}\n",
    "$$\n",
    "\n",
    "This score is computed for each set of possible (feature, split point) and the one yielding the lowest value would be selected. After that, the procedure is repeated until we satisfy some kind of stopping criterion "
   ]
  },
  {
   "cell_type": "markdown",
   "id": "e9b1cff5-19ad-418e-b606-970cd59790a6",
   "metadata": {},
   "source": [
    "# <br><br><span style=\"color:rebeccapurple\">Stopping criterion</span>\n",
    "\n",
    "The most common stopping criterion is a minimum count on the number of instances assigned to each leaf node. If after splitting, the count is less than some number then the split is not accepted and the node is taken as a final leaf node.\n",
    "\n",
    "If this number is too low (e.g. 1), the tree will likely overfit to the data and not generalize well. This number should be tuned to the dataset. We will not cover tuning hyperparameters in this workshop."
   ]
  },
  {
   "cell_type": "markdown",
   "id": "e0036f95-8fcb-40c0-bf9d-aa0d0105ceed",
   "metadata": {},
   "source": [
    "# <br><br><span style=\"color:rebeccapurple\">Let's code!</span>\n"
   ]
  },
  {
   "cell_type": "code",
   "execution_count": 2,
   "id": "2cf1659b-e549-495b-b22a-98b8a944b0c9",
   "metadata": {},
   "outputs": [],
   "source": [
    "import numpy as np\n",
    "import pandas as pd\n",
    "import matplotlib.pyplot as plt\n",
    "import seaborn as sns\n",
    "import sklearn"
   ]
  },
  {
   "cell_type": "code",
   "execution_count": 29,
   "id": "bcebfc47-a98d-4e13-8fe5-b01f2eb0f1d3",
   "metadata": {},
   "outputs": [
    {
     "data": {
      "text/html": [
       "<div>\n",
       "<style scoped>\n",
       "    .dataframe tbody tr th:only-of-type {\n",
       "        vertical-align: middle;\n",
       "    }\n",
       "\n",
       "    .dataframe tbody tr th {\n",
       "        vertical-align: top;\n",
       "    }\n",
       "\n",
       "    .dataframe thead th {\n",
       "        text-align: right;\n",
       "    }\n",
       "</style>\n",
       "<table border=\"1\" class=\"dataframe\">\n",
       "  <thead>\n",
       "    <tr style=\"text-align: right;\">\n",
       "      <th></th>\n",
       "      <th>sepal_length</th>\n",
       "      <th>sepal_width</th>\n",
       "      <th>petal_length</th>\n",
       "      <th>petal_width</th>\n",
       "    </tr>\n",
       "  </thead>\n",
       "  <tbody>\n",
       "    <tr>\n",
       "      <th>count</th>\n",
       "      <td>150.000000</td>\n",
       "      <td>149.000000</td>\n",
       "      <td>149.000000</td>\n",
       "      <td>150.000000</td>\n",
       "    </tr>\n",
       "    <tr>\n",
       "      <th>mean</th>\n",
       "      <td>5.843333</td>\n",
       "      <td>3.053691</td>\n",
       "      <td>3.773154</td>\n",
       "      <td>1.199333</td>\n",
       "    </tr>\n",
       "    <tr>\n",
       "      <th>std</th>\n",
       "      <td>0.828066</td>\n",
       "      <td>0.435040</td>\n",
       "      <td>1.761435</td>\n",
       "      <td>0.762238</td>\n",
       "    </tr>\n",
       "    <tr>\n",
       "      <th>min</th>\n",
       "      <td>4.300000</td>\n",
       "      <td>2.000000</td>\n",
       "      <td>1.000000</td>\n",
       "      <td>0.100000</td>\n",
       "    </tr>\n",
       "    <tr>\n",
       "      <th>25%</th>\n",
       "      <td>5.100000</td>\n",
       "      <td>2.800000</td>\n",
       "      <td>1.600000</td>\n",
       "      <td>0.300000</td>\n",
       "    </tr>\n",
       "    <tr>\n",
       "      <th>50%</th>\n",
       "      <td>5.800000</td>\n",
       "      <td>3.000000</td>\n",
       "      <td>4.400000</td>\n",
       "      <td>1.300000</td>\n",
       "    </tr>\n",
       "    <tr>\n",
       "      <th>75%</th>\n",
       "      <td>6.400000</td>\n",
       "      <td>3.300000</td>\n",
       "      <td>5.100000</td>\n",
       "      <td>1.800000</td>\n",
       "    </tr>\n",
       "    <tr>\n",
       "      <th>max</th>\n",
       "      <td>7.900000</td>\n",
       "      <td>4.400000</td>\n",
       "      <td>6.900000</td>\n",
       "      <td>2.500000</td>\n",
       "    </tr>\n",
       "  </tbody>\n",
       "</table>\n",
       "</div>"
      ],
      "text/plain": [
       "       sepal_length  sepal_width  petal_length  petal_width\n",
       "count    150.000000   149.000000    149.000000   150.000000\n",
       "mean       5.843333     3.053691      3.773154     1.199333\n",
       "std        0.828066     0.435040      1.761435     0.762238\n",
       "min        4.300000     2.000000      1.000000     0.100000\n",
       "25%        5.100000     2.800000      1.600000     0.300000\n",
       "50%        5.800000     3.000000      4.400000     1.300000\n",
       "75%        6.400000     3.300000      5.100000     1.800000\n",
       "max        7.900000     4.400000      6.900000     2.500000"
      ]
     },
     "execution_count": 29,
     "metadata": {},
     "output_type": "execute_result"
    }
   ],
   "source": [
    "df = pd.read_csv('datasets/iris.csv')\n",
    "df.describe()"
   ]
  },
  {
   "cell_type": "code",
   "execution_count": 24,
   "id": "5e9eb1bb-ee0b-409b-bda1-1eeb146c06b0",
   "metadata": {},
   "outputs": [],
   "source": [
    "# Get the feature columns for easier access\n",
    "feature_names = df.columns.values[:-1]\n",
    "# Split the dataset into predictors and response\n",
    "X = df[feature_names]\n",
    "Y = df['target']"
   ]
  },
  {
   "cell_type": "code",
   "execution_count": 36,
   "id": "0ddad7c0-925d-464c-957e-f9d4ccad01ff",
   "metadata": {},
   "outputs": [
    {
     "name": "stdout",
     "output_type": "stream",
     "text": [
      "['setosa' 'versicolor' 'virginica']\n"
     ]
    }
   ],
   "source": [
    "# Transform the target into numerical values - Note: preprocessor in Pipeline is applied to predictors only, not target\n",
    "from sklearn.preprocessing import LabelEncoder\n",
    "enc = LabelEncoder().fit(Y)\n",
    "labels = enc.classes_\n",
    "Y_num = enc.transform(Y)\n",
    "print(labels)"
   ]
  },
  {
   "cell_type": "code",
   "execution_count": 26,
   "id": "e04453d3-7036-4b3b-a1f9-0eedf570394b",
   "metadata": {},
   "outputs": [],
   "source": [
    "from sklearn.model_selection import train_test_split\n",
    "\n",
    "X_train, X_test, Y_train, Y_test = train_test_split(X, Y_num, test_size=0.2, random_state=0)"
   ]
  },
  {
   "cell_type": "code",
   "execution_count": 38,
   "id": "7df795c4-2541-42b9-b11b-1c53010862de",
   "metadata": {},
   "outputs": [
    {
     "data": {
      "text/html": [
       "<div>\n",
       "<style scoped>\n",
       "    .dataframe tbody tr th:only-of-type {\n",
       "        vertical-align: middle;\n",
       "    }\n",
       "\n",
       "    .dataframe tbody tr th {\n",
       "        vertical-align: top;\n",
       "    }\n",
       "\n",
       "    .dataframe thead th {\n",
       "        text-align: right;\n",
       "    }\n",
       "</style>\n",
       "<table border=\"1\" class=\"dataframe\">\n",
       "  <thead>\n",
       "    <tr style=\"text-align: right;\">\n",
       "      <th></th>\n",
       "      <th>sepal_length</th>\n",
       "      <th>sepal_width</th>\n",
       "      <th>petal_length</th>\n",
       "      <th>petal_width</th>\n",
       "      <th>target</th>\n",
       "    </tr>\n",
       "  </thead>\n",
       "  <tbody>\n",
       "    <tr>\n",
       "      <th>4</th>\n",
       "      <td>5.0</td>\n",
       "      <td>NaN</td>\n",
       "      <td>1.4</td>\n",
       "      <td>0.2</td>\n",
       "      <td>setosa</td>\n",
       "    </tr>\n",
       "    <tr>\n",
       "      <th>10</th>\n",
       "      <td>5.4</td>\n",
       "      <td>3.7</td>\n",
       "      <td>NaN</td>\n",
       "      <td>0.2</td>\n",
       "      <td>setosa</td>\n",
       "    </tr>\n",
       "  </tbody>\n",
       "</table>\n",
       "</div>"
      ],
      "text/plain": [
       "    sepal_length  sepal_width  petal_length  petal_width  target\n",
       "4            5.0          NaN           1.4          0.2  setosa\n",
       "10           5.4          3.7           NaN          0.2  setosa"
      ]
     },
     "execution_count": 38,
     "metadata": {},
     "output_type": "execute_result"
    }
   ],
   "source": [
    "df[df.isna().any(axis=1)]"
   ]
  },
  {
   "cell_type": "code",
   "execution_count": 31,
   "id": "8f23cea6-dabc-4696-b728-982180fc0b25",
   "metadata": {},
   "outputs": [],
   "source": [
    "# Create preprocessor pipeline\n",
    "from sklearn.pipeline import Pipeline\n",
    "from sklearn.impute import SimpleImputer\n",
    "from sklearn.preprocessing import StandardScaler\n",
    "\n",
    "preprocessor = Pipeline(steps=[('nan', SimpleImputer(strategy='mean')), ('scaler', StandardScaler())])"
   ]
  },
  {
   "cell_type": "code",
   "execution_count": 32,
   "id": "85f71d52-30f0-4950-a787-6516774fdd08",
   "metadata": {},
   "outputs": [],
   "source": [
    "from sklearn.tree import DecisionTreeClassifier\n",
    "\n",
    "model = Pipeline(steps=[('preprocessor', preprocessor),\n",
    "                      ('regressor', DecisionTreeClassifier())])"
   ]
  },
  {
   "cell_type": "code",
   "execution_count": 33,
   "id": "dfa2f828-e52e-457e-a616-c50c1dc98a19",
   "metadata": {},
   "outputs": [
    {
     "data": {
      "text/plain": [
       "Pipeline(steps=[('preprocessor',\n",
       "                 Pipeline(steps=[('nan', SimpleImputer()),\n",
       "                                 ('scaler', StandardScaler())])),\n",
       "                ('regressor', DecisionTreeClassifier())])"
      ]
     },
     "execution_count": 33,
     "metadata": {},
     "output_type": "execute_result"
    }
   ],
   "source": [
    "model.fit(X_train, Y_train)"
   ]
  },
  {
   "cell_type": "code",
   "execution_count": null,
   "id": "f6ffc509-3c15-4223-8921-b7e40d3214b0",
   "metadata": {},
   "outputs": [],
   "source": []
  },
  {
   "cell_type": "code",
   "execution_count": 34,
   "id": "f89540c5-9c6c-4a2e-9732-dd127b3f3ca2",
   "metadata": {},
   "outputs": [
    {
     "data": {
      "text/plain": [
       "<sklearn.metrics._plot.confusion_matrix.ConfusionMatrixDisplay at 0x7f9e78536460>"
      ]
     },
     "execution_count": 34,
     "metadata": {},
     "output_type": "execute_result"
    },
    {
     "data": {
      "image/png": "[encoded data removed]",
      "text/plain": [
       "<Figure size 432x288 with 2 Axes>"
      ]
     },
     "metadata": {
      "needs_background": "light"
     },
     "output_type": "display_data"
    }
   ],
   "source": [
    "cm = confusion_matrix(Y_test, model.predict(X_test))\n",
    "disp = ConfusionMatrixDisplay(confusion_matrix=cm, display_labels=labels)\n",
    "disp.plot()"
   ]
  },
  {
   "cell_type": "code",
   "execution_count": null,
   "id": "032b0a2b-c93e-4e06-abf3-0764cf141bcf",
   "metadata": {},
   "outputs": [],
   "source": []
  }
 ],
 "metadata": {
  "kernelspec": {
   "display_name": "Python 3 (ipykernel)",
   "language": "python",
   "name": "python3"
  },
  "language_info": {
   "codemirror_mode": {
    "name": "ipython",
    "version": 3
   },
   "file_extension": ".py",
   "mimetype": "text/x-python",
   "name": "python",
   "nbconvert_exporter": "python",
   "pygments_lexer": "ipython3",
   "version": "3.9.12"
  }
 },
 "nbformat": 4,
 "nbformat_minor": 5
}
