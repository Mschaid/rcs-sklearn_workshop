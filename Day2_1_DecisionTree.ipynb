{
 "cells": [
  {
   "cell_type": "markdown",
   "id": "48166c47-d191-43a8-8609-6b08f018bca4",
   "metadata": {},
   "source": [
    "# <br><br><span style=\"color:rebeccapurple\">Overview</span>\n",
    "\n",
    "Decision tree is an important type of model in machine learning. The model is relatively easy to understand, interpret and visualize.\n",
    "<div>\n",
    "<center><img src=\"dt_component.png\" width=\"600\"/>\n",
    "<center> Source: <a href=\"https://www.kdnuggets.com/2020/01/decision-tree-algorithm-explained.html\">Chauhan, N. S. (2022)</a>\n",
    "\n",
    "This figure is an example of a tree structure. Decision tree typically consists of decision nodes and leaf nodes. Each decision node takes a single feature, determine a decision rule based on this feature and separate the samples accordingly. Each leaf (or terminal) node represents an outcome or prediction."
   ]
  },
  {
   "cell_type": "markdown",
   "id": "18acbd56-925f-4c56-8210-9fe2bdbe86b8",
   "metadata": {},
   "source": [
    "<div>\n",
    "<center><img src=\"dt.png\" width=\"500\"/>\n",
    "<center> Source: <a href=\"https://medium.com/deep-math-machine-learning-ai/chapter-4-decision-trees-algorithms-b93975f7a1f1\">Sanjeevi, M (2017)</a>\n",
    "    \n",
    "The figure above is an example of a decision tree that is used to determine whether a person would go and play outside, based on 3 features - outlook, humidity and wind.\n",
    "    "
   ]
  },
  {
   "cell_type": "markdown",
   "id": "d792bf16-3996-4624-9aa7-b0f92b5ab8f9",
   "metadata": {},
   "source": [
    "# <br><br><span style=\"color:rebeccapurple\">Tree building algorithm</span>\n",
    "\n",
    "Building a decision tree is essentially a process of dividing up the dataset and involves\n",
    "- picking which feature to split the samples on\n",
    "- determining the specific split point of the chosen feature\n",
    "\n",
    "The numerical procedure can be summarized as tesing all possible split points corresponding to each feature using some cost functions. Whichever set of {feature, split point} produces the lowest cost is selected and the samples are split accordingly. \n",
    "\n",
    "There are several algorithms to build decision trees such as Iterative Dichotomiser 3 (ID3) and Classification and Regression Trees (CART). We will focus on CART for this workshop. \n",
    "\n",
    "The key features of CART are\n",
    "- building binary trees, i.e., splitting samples in a decision node into 2 branches\n",
    "- supporting numerical target variable (regression)\n",
    "- sum of squared error as the cost function for regression\n",
    "- Gini Index as the cost function for classification\n",
    "\n",
    "##### Note: scikit-learn implementation does not support categorical predictors."
   ]
  },
  {
   "cell_type": "markdown",
   "id": "51cafd3f-9640-444a-9bae-97d6728c0cd2",
   "metadata": {},
   "source": [
    "# <br><br><span style=\"color:rebeccapurple\">Classification - Gini Index</span>\n",
    "\n",
    "Gini Index (or Impurity) calculates the probaility of misclassifying samples based on a specific feature. The Gini Index function is calculated as\n",
    "$$\n",
    "\\begin{align}\n",
    "G = \\sum_{i=1}^N p_i(1-p_i)\n",
    "\\end{align}\n",
    "$$\n",
    "where $p_i$ denotes the probability of a sample being classified for class $i$ and is calculated as \n",
    "$$\n",
    "\\begin{align}\n",
    "p_i = \\frac{\\text{# samples in class $i$}}{\\text{Total # samples}}\n",
    "\\end{align}\n",
    "$$\n",
    "\n",
    "Example: Suppose we have $N$ samples that belong to either class A or class B. We want to determine the first decision node and we want to test feature Income with split point $50,000. \n",
    "<div>\n",
    "<center><img src=\"./dt_example.png\" width=\"600\"/>\n",
    "<center> Source: Author\n",
    "    \n",
    "    \n",
    "<br> $p_a$ and $p_b$ are the probability of a sample being in class a and b respectively and they are calculated for each subset obtained after the split. We can compute the Gini Index for each subset, $G_1$ and $G_2$.\n",
    "\n",
    "The Gini Index of a node is computed as the weighted score of these two subsets\n",
    "$$\n",
    "\\begin{align}\n",
    "G_{node} = G_1 \\frac{N_1}{N} +  G_2 \\frac{N_2}{N}\n",
    "\\end{align}\n",
    "$$\n",
    "\n",
    "This score is computed for each set of possible (feature, split point) and the one yielding the lowest value would be selected. After that, the procedure is repeated until we satisfy some kind of stopping criterion "
   ]
  },
  {
   "cell_type": "markdown",
   "id": "e9b1cff5-19ad-418e-b606-970cd59790a6",
   "metadata": {},
   "source": [
    "# <br><br><span style=\"color:rebeccapurple\">Stopping criterion</span>\n",
    "\n",
    "The most common stopping criterion is a minimum count on the number of instances assigned to each leaf node. If after splitting, the count is less than some number then the split is not accepted and the node is taken as a final leaf node.\n",
    "\n",
    "If this number is too low (e.g. 1), the tree will likely overfit to the data and not generalize well. This number should be tuned to the dataset.\n",
    "\n",
    "Another stopping criterion is a maximum depth for the tree."
   ]
  },
  {
   "cell_type": "markdown",
   "id": "e0036f95-8fcb-40c0-bf9d-aa0d0105ceed",
   "metadata": {},
   "source": [
    "# <br><br><span style=\"color:rebeccapurple\">Let's code!</span>"
   ]
  },
  {
   "cell_type": "code",
   "execution_count": 338,
   "id": "2cf1659b-e549-495b-b22a-98b8a944b0c9",
   "metadata": {},
   "outputs": [],
   "source": [
    "import numpy as np\n",
    "import pandas as pd\n",
    "import matplotlib.pyplot as plt\n",
    "import seaborn as sns\n",
    "import sklearn"
   ]
  },
  {
   "cell_type": "code",
   "execution_count": 339,
   "id": "bcebfc47-a98d-4e13-8fe5-b01f2eb0f1d3",
   "metadata": {},
   "outputs": [
    {
     "data": {
      "text/html": [
       "<div>\n",
       "<style scoped>\n",
       "    .dataframe tbody tr th:only-of-type {\n",
       "        vertical-align: middle;\n",
       "    }\n",
       "\n",
       "    .dataframe tbody tr th {\n",
       "        vertical-align: top;\n",
       "    }\n",
       "\n",
       "    .dataframe thead th {\n",
       "        text-align: right;\n",
       "    }\n",
       "</style>\n",
       "<table border=\"1\" class=\"dataframe\">\n",
       "  <thead>\n",
       "    <tr style=\"text-align: right;\">\n",
       "      <th></th>\n",
       "      <th>sepal_length</th>\n",
       "      <th>sepal_width</th>\n",
       "      <th>petal_length</th>\n",
       "      <th>petal_width</th>\n",
       "    </tr>\n",
       "  </thead>\n",
       "  <tbody>\n",
       "    <tr>\n",
       "      <th>count</th>\n",
       "      <td>100.000000</td>\n",
       "      <td>99.000000</td>\n",
       "      <td>99.000000</td>\n",
       "      <td>100.000000</td>\n",
       "    </tr>\n",
       "    <tr>\n",
       "      <th>mean</th>\n",
       "      <td>5.471000</td>\n",
       "      <td>3.093939</td>\n",
       "      <td>2.874747</td>\n",
       "      <td>0.786000</td>\n",
       "    </tr>\n",
       "    <tr>\n",
       "      <th>std</th>\n",
       "      <td>0.641698</td>\n",
       "      <td>0.478479</td>\n",
       "      <td>1.450358</td>\n",
       "      <td>0.565153</td>\n",
       "    </tr>\n",
       "    <tr>\n",
       "      <th>min</th>\n",
       "      <td>4.300000</td>\n",
       "      <td>2.000000</td>\n",
       "      <td>1.000000</td>\n",
       "      <td>0.100000</td>\n",
       "    </tr>\n",
       "    <tr>\n",
       "      <th>25%</th>\n",
       "      <td>5.000000</td>\n",
       "      <td>2.800000</td>\n",
       "      <td>1.500000</td>\n",
       "      <td>0.200000</td>\n",
       "    </tr>\n",
       "    <tr>\n",
       "      <th>50%</th>\n",
       "      <td>5.400000</td>\n",
       "      <td>3.000000</td>\n",
       "      <td>3.000000</td>\n",
       "      <td>0.800000</td>\n",
       "    </tr>\n",
       "    <tr>\n",
       "      <th>75%</th>\n",
       "      <td>5.900000</td>\n",
       "      <td>3.400000</td>\n",
       "      <td>4.350000</td>\n",
       "      <td>1.300000</td>\n",
       "    </tr>\n",
       "    <tr>\n",
       "      <th>max</th>\n",
       "      <td>7.000000</td>\n",
       "      <td>4.400000</td>\n",
       "      <td>5.100000</td>\n",
       "      <td>1.800000</td>\n",
       "    </tr>\n",
       "  </tbody>\n",
       "</table>\n",
       "</div>"
      ],
      "text/plain": [
       "       sepal_length  sepal_width  petal_length  petal_width\n",
       "count    100.000000    99.000000     99.000000   100.000000\n",
       "mean       5.471000     3.093939      2.874747     0.786000\n",
       "std        0.641698     0.478479      1.450358     0.565153\n",
       "min        4.300000     2.000000      1.000000     0.100000\n",
       "25%        5.000000     2.800000      1.500000     0.200000\n",
       "50%        5.400000     3.000000      3.000000     0.800000\n",
       "75%        5.900000     3.400000      4.350000     1.300000\n",
       "max        7.000000     4.400000      5.100000     1.800000"
      ]
     },
     "execution_count": 339,
     "metadata": {},
     "output_type": "execute_result"
    }
   ],
   "source": [
    "df = pd.read_csv('datasets/iris_binary.csv')\n",
    "df.describe()"
   ]
  },
  {
   "cell_type": "code",
   "execution_count": 340,
   "id": "0cdda47b-54f5-4143-8961-978752e30f24",
   "metadata": {},
   "outputs": [
    {
     "data": {
      "text/html": [
       "<div>\n",
       "<style scoped>\n",
       "    .dataframe tbody tr th:only-of-type {\n",
       "        vertical-align: middle;\n",
       "    }\n",
       "\n",
       "    .dataframe tbody tr th {\n",
       "        vertical-align: top;\n",
       "    }\n",
       "\n",
       "    .dataframe thead th {\n",
       "        text-align: right;\n",
       "    }\n",
       "</style>\n",
       "<table border=\"1\" class=\"dataframe\">\n",
       "  <thead>\n",
       "    <tr style=\"text-align: right;\">\n",
       "      <th></th>\n",
       "      <th>sepal_length</th>\n",
       "      <th>sepal_width</th>\n",
       "      <th>petal_length</th>\n",
       "      <th>petal_width</th>\n",
       "      <th>target</th>\n",
       "    </tr>\n",
       "  </thead>\n",
       "  <tbody>\n",
       "    <tr>\n",
       "      <th>4</th>\n",
       "      <td>5.0</td>\n",
       "      <td>NaN</td>\n",
       "      <td>1.4</td>\n",
       "      <td>0.2</td>\n",
       "      <td>setosa</td>\n",
       "    </tr>\n",
       "    <tr>\n",
       "      <th>10</th>\n",
       "      <td>5.4</td>\n",
       "      <td>3.7</td>\n",
       "      <td>NaN</td>\n",
       "      <td>0.2</td>\n",
       "      <td>setosa</td>\n",
       "    </tr>\n",
       "  </tbody>\n",
       "</table>\n",
       "</div>"
      ],
      "text/plain": [
       "    sepal_length  sepal_width  petal_length  petal_width  target\n",
       "4            5.0          NaN           1.4          0.2  setosa\n",
       "10           5.4          3.7           NaN          0.2  setosa"
      ]
     },
     "execution_count": 340,
     "metadata": {},
     "output_type": "execute_result"
    }
   ],
   "source": [
    "df[df.isna().any(axis=1)]"
   ]
  },
  {
   "cell_type": "code",
   "execution_count": 341,
   "id": "f3ac2e2c-41b2-44e3-a9d5-f886adb7373e",
   "metadata": {},
   "outputs": [
    {
     "data": {
      "text/plain": [
       "setosa    55\n",
       "other     45\n",
       "Name: target, dtype: int64"
      ]
     },
     "execution_count": 341,
     "metadata": {},
     "output_type": "execute_result"
    }
   ],
   "source": [
    "df['target'].value_counts()"
   ]
  },
  {
   "cell_type": "markdown",
   "id": "37bd763b-ad39-4bd6-ba81-0f851c0f6122",
   "metadata": {},
   "source": [
    "Taking a quick look at the data, we can see that \n",
    "- there are missing data \n",
    "- the predictors are numeric variables with varied means and standard deviations\n",
    "\n",
    "### <br><span style=\"color:blue\"> Question\n",
    "    \n",
    "What should we do for preprocessing?\n",
    "    \n",
    "Hint: Decision tree is a nonparametric model. What assumptions do nonparametric models make about data?"
   ]
  },
  {
   "cell_type": "code",
   "execution_count": 342,
   "id": "5e9eb1bb-ee0b-409b-bda1-1eeb146c06b0",
   "metadata": {},
   "outputs": [],
   "source": [
    "# Get the feature columns for easier access\n",
    "feature_names = df.columns.values[:-1]\n",
    "# Split the dataset into predictors and response\n",
    "X = df[feature_names]\n",
    "Y = df['target']"
   ]
  },
  {
   "cell_type": "code",
   "execution_count": 343,
   "id": "0ddad7c0-925d-464c-957e-f9d4ccad01ff",
   "metadata": {},
   "outputs": [
    {
     "name": "stdout",
     "output_type": "stream",
     "text": [
      "['other' 'setosa']\n"
     ]
    }
   ],
   "source": [
    "# Transform the target into numerical values - Note: preprocessor in Pipeline is applied to predictors only, not target\n",
    "from sklearn.preprocessing import LabelEncoder\n",
    "enc = LabelEncoder().fit(Y)\n",
    "labels = enc.classes_\n",
    "Y_num = enc.transform(Y)\n",
    "print(labels)"
   ]
  },
  {
   "cell_type": "markdown",
   "id": "7e99ae12-dc1c-4a5c-a733-fc80b2d0739e",
   "metadata": {
    "tags": []
   },
   "source": [
    "### <br><span style=\"color:blue\"> Practice\n",
    "\n",
    "Split the data into train/test set with test_size=0.2 and set a value for random_state=10"
   ]
  },
  {
   "cell_type": "code",
   "execution_count": 355,
   "id": "e04453d3-7036-4b3b-a1f9-0eedf570394b",
   "metadata": {},
   "outputs": [],
   "source": [
    "from sklearn.model_selection import train_test_split\n",
    "\n",
    "# X_train, X_test, Y_train, Y_test = "
   ]
  },
  {
   "cell_type": "markdown",
   "id": "5a67afe6-d4a3-4241-bafa-318b9ccc5595",
   "metadata": {},
   "source": [
    "## <br><span style=\"color:teal\"> Preprocessing\n",
    "    \n",
    "### <br><span style=\"color:blue\"> Practice\n",
    "\n",
    "Import the necessary packages and create a pipeline named preprocessor that store the steps. At least one of them should be SimpleImputer. Use mean to impute. Name this step 'nan'.\n",
    "\n",
    "Note: since all the predictors are numeric variables, we don't have to use ColumnTransformer.\n",
    "\n",
    "Hint: the code to create pipelines in scikit-learn has the format Pipeline(steps=[(chosen_name1, transformer1), ...])"
   ]
  },
  {
   "cell_type": "code",
   "execution_count": 345,
   "id": "8f23cea6-dabc-4696-b728-982180fc0b25",
   "metadata": {},
   "outputs": [],
   "source": [
    "# Create preprocessor pipeline\n",
    "from sklearn.pipeline import Pipeline\n",
    "from sklearn.impute import SimpleImputer\n",
    "\n",
    "# preprocessor = "
   ]
  },
  {
   "cell_type": "code",
   "execution_count": 354,
   "id": "85f71d52-30f0-4950-a787-6516774fdd08",
   "metadata": {},
   "outputs": [],
   "source": [
    "from sklearn.tree import DecisionTreeClassifier\n",
    "\n",
    "model = Pipeline(steps=[('preprocessor', preprocessor),\n",
    "                      ('tree', DecisionTreeClassifier(criterion='gini', min_samples_leaf=3))])"
   ]
  },
  {
   "cell_type": "markdown",
   "id": "f69bb2db-a336-4d34-b58c-feed43ffbf7b",
   "metadata": {},
   "source": [
    "## <br><span style=\"color:teal\"> Fit model and predict\n",
    "\n",
    "### <br><span style=\"color:blue\"> Practice\n",
    "\n",
    "Fit the model to the train set and predict the target for the test set"
   ]
  },
  {
   "cell_type": "code",
   "execution_count": null,
   "id": "a7004129-169e-4399-b131-7ff772dea55a",
   "metadata": {},
   "outputs": [],
   "source": []
  },
  {
   "cell_type": "code",
   "execution_count": 348,
   "id": "f6ffc509-3c15-4223-8921-b7e40d3214b0",
   "metadata": {},
   "outputs": [],
   "source": [
    "# Y_pred = "
   ]
  },
  {
   "cell_type": "markdown",
   "id": "be2266d6-4ab4-46ad-8e08-f6fa0727af35",
   "metadata": {},
   "source": [
    "## <br><span style=\"color:teal\"> Evaluate learned model\n",
    "    \n",
    "There are several measures to evaluate a classification model. A useful visual tool is the confusion matrix.\n",
    "    \n",
    "<div>\n",
    "<center><img src=\"confusionmatrix.png\" width=\"600\"/>\n",
    "</div>\n",
    "<center> Source: Author"
   ]
  },
  {
   "cell_type": "markdown",
   "id": "858f1a15-4f8a-44e1-9916-cdbe4e45e822",
   "metadata": {},
   "source": [
    "From the confusion matrix, we can compute several measures such as \n",
    "- accuracy \n",
    "- precision \n",
    "- recall/sensitivity/true positive rate \n",
    "- specificity/true negative rate  \n",
    "\n",
    "$F1$ score is also a popular measure and it combines precision and recall. \n",
    "$$\n",
    "\\begin{align}\n",
    "F1 = \\frac{2*\\text{Precision}*\\text{Recall}}{\\text{Precision} +\\text{Recall}}\n",
    "\\end{align}\n",
    "$$\n",
    "\n",
    "Some of these measures will need to be adjusted for situations such as highly imbalanced classes or multi-class problem. We will not go into details for this workshop."
   ]
  },
  {
   "cell_type": "code",
   "execution_count": 349,
   "id": "f89540c5-9c6c-4a2e-9732-dd127b3f3ca2",
   "metadata": {},
   "outputs": [
    {
     "data": {
      "text/plain": [
       "<sklearn.metrics._plot.confusion_matrix.ConfusionMatrixDisplay at 0x7f9ea8d71ac0>"
      ]
     },
     "execution_count": 349,
     "metadata": {},
     "output_type": "execute_result"
    },
    {
     "data": {
      "image/png": "[encoded data removed]",
      "text/plain": [
       "<Figure size 432x288 with 2 Axes>"
      ]
     },
     "metadata": {
      "needs_background": "light"
     },
     "output_type": "display_data"
    }
   ],
   "source": [
    "from sklearn.metrics import confusion_matrix, ConfusionMatrixDisplay\n",
    "cm = confusion_matrix(Y_test, Y_pred)\n",
    "disp = ConfusionMatrixDisplay(confusion_matrix=cm, display_labels=labels)\n",
    "disp.plot()"
   ]
  },
  {
   "cell_type": "markdown",
   "id": "e4d8c783-f841-4d9f-af4a-b6006bc13a38",
   "metadata": {},
   "source": [
    "There is a built-in function in scikit-learn to generate classification report that provides some of the most important measures. "
   ]
  },
  {
   "cell_type": "code",
   "execution_count": 350,
   "id": "5b459aba-32e6-464f-a7ff-d15bda107f90",
   "metadata": {},
   "outputs": [
    {
     "name": "stdout",
     "output_type": "stream",
     "text": [
      "              precision    recall  f1-score   support\n",
      "\n",
      "       other       0.89      1.00      0.94         8\n",
      "      setosa       1.00      0.92      0.96        12\n",
      "\n",
      "    accuracy                           0.95        20\n",
      "   macro avg       0.94      0.96      0.95        20\n",
      "weighted avg       0.96      0.95      0.95        20\n",
      "\n"
     ]
    }
   ],
   "source": [
    "from sklearn.metrics import classification_report\n",
    "print(classification_report(Y_test, Y_pred, target_names=labels))"
   ]
  },
  {
   "cell_type": "markdown",
   "id": "da78dbe5-094e-430b-aa28-6a96964c431e",
   "metadata": {},
   "source": [
    "The upper part of the report gives the prevision, recall and f1 score of each class along with the number of instances (support). \n",
    "\n",
    "The lower part gives the overall accuracy and averages of the other metrics across class. It may look a bit confusing but accuracy is the single score that is in the same column as the f1 score."
   ]
  },
  {
   "cell_type": "markdown",
   "id": "57cc484d-88a5-4789-a7ed-68921fcff160",
   "metadata": {},
   "source": [
    "## <br><span style=\"color:teal\"> Visualize fitted decision tree"
   ]
  },
  {
   "cell_type": "code",
   "execution_count": 351,
   "id": "e4bf7b26-a8e4-4f53-a926-d2a4f961acc0",
   "metadata": {},
   "outputs": [
    {
     "data": {
      "image/png": "[encoded data removed]",
      "text/plain": [
       "<Figure size 1440x864 with 1 Axes>"
      ]
     },
     "metadata": {
      "needs_background": "light"
     },
     "output_type": "display_data"
    }
   ],
   "source": [
    "from sklearn.tree import plot_tree\n",
    "\n",
    "plt.figure(figsize=(20,12))\n",
    "plot_tree(model['tree'], feature_names=feature_names, class_names=labels, filled=True, fontsize=13, node_ids=True)\n",
    "plt.title(\"Decision tree trained on all the iris features\", fontsize=15)\n",
    "plt.show()"
   ]
  },
  {
   "cell_type": "markdown",
   "id": "32601860-e1f0-4978-9c41-72e31e1a78a8",
   "metadata": {},
   "source": [
    "Information included in the decision tree:\n",
    "- node ID\n",
    "- feature name along with split point (for decision node)\n",
    "- Gini Index (Note: this is not the weighted Gini score used to determine the split. This is the Gini Index before a split.)\n",
    "- total number of samples\n",
    "- number of samples for each class\n",
    "- the majority class\n",
    "\n",
    "The color of each node corresponds to the majority class in the set at that node."
   ]
  },
  {
   "cell_type": "markdown",
   "id": "c68dfaf2-2497-4c6a-970b-c22bfe3d88f2",
   "metadata": {},
   "source": [
    "### <br><span style=\"color:blue\"> Question\n",
    "\n",
    "Looking at the branch starting from node #2, do you notice something odd? "
   ]
  },
  {
   "cell_type": "markdown",
   "id": "6bfd6370-c829-43e0-a2f2-13617164a654",
   "metadata": {},
   "source": [
    "## <br><span style=\"color:teal\"> Prune decision tree\n",
    "\n",
    "After learning the decision tree, we can use pruning to improve performance.\n",
    "\n",
    "The complexity of a decision tree is defined as the number of splits in the tree. Simpler trees are preferred as they are easier to understand less likely to overfit your data.\n",
    "\n",
    "The simplest method is to \n",
    "- iterate through each leaf node\n",
    "- evaluate the effect of removing the split using a test set\n",
    "- remove the node if that improves, i.e. lowers, the cost function on the test set"
   ]
  },
  {
   "cell_type": "markdown",
   "id": "0753a2ae-79ee-4eb6-9e70-d3ad9fed8439",
   "metadata": {},
   "source": [
    "# <br><br><span style=\"color:rebeccapurple\">Disadvantages of decision tree</span>\n",
    "\n",
    "Some major disadvantages of the decision tree model:\n",
    "\n",
    "1. Over-complex tree. Pruning and tunning hyperameters like minimum number of samples or maximum depth can help alleviate this problem.\n",
    "\n",
    "2. No guarantee for trained decision tree to be globally optimal. Ensemble methods can help mitigate this impact.\n",
    "\n",
    "3. Sensitivity to small variations in data. This may result in a completely different tree beign generated. Ensemble methods can also help improve performances.\n",
    "\n",
    "4. Tendency to be biased if some classes dominate."
   ]
  },
  {
   "cell_type": "code",
   "execution_count": null,
   "id": "ae467ff8-ddd5-444a-bb79-676849c62c30",
   "metadata": {},
   "outputs": [],
   "source": []
  },
  {
   "cell_type": "code",
   "execution_count": null,
   "id": "5f99284b-3e53-442e-8799-4e660e9687a8",
   "metadata": {},
   "outputs": [],
   "source": []
  }
 ],
 "metadata": {
  "kernelspec": {
   "display_name": "Python 3 (ipykernel)",
   "language": "python",
   "name": "python3"
  },
  "language_info": {
   "codemirror_mode": {
    "name": "ipython",
    "version": 3
   },
   "file_extension": ".py",
   "mimetype": "text/x-python",
   "name": "python",
   "nbconvert_exporter": "python",
   "pygments_lexer": "ipython3",
   "version": "3.9.12"
  }
 },
 "nbformat": 4,
 "nbformat_minor": 5
}
